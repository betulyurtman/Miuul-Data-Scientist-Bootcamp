{
 "cells": [
  {
   "cell_type": "markdown",
   "id": "d937b596",
   "metadata": {
    "papermill": {
     "duration": 0.003971,
     "end_time": "2024-06-23T15:18:41.136721",
     "exception": false,
     "start_time": "2024-06-23T15:18:41.132750",
     "status": "completed"
    },
    "tags": []
   },
   "source": [
    "# Association Rule Based Recommender System"
   ]
  },
  {
   "cell_type": "markdown",
   "id": "572fab61",
   "metadata": {
    "papermill": {
     "duration": 0.003194,
     "end_time": "2024-06-23T15:18:41.143819",
     "exception": false,
     "start_time": "2024-06-23T15:18:41.140625",
     "status": "completed"
    },
    "tags": []
   },
   "source": [
    "**İş Problemi**\n",
    "\n",
    "Türkiye’nin en büyük online hizmet platformu olan Armut, hizmet verenler ile hizmet almak isteyenleri buluşturmaktadır. Bilgisayarın veya akıllı telefonunun üzerinden birkaç dokunuşla temizlik, tadilat, nakliyat gibi hizmetlere kolayca ulaşılmasını sağlamaktadır.\n",
    "Hizmet alan kullanıcıları ve bu kullanıcıların almış oldukları servis ve kategorileri içeren veri setini kullanarak Association Rule Learning ile ürün tavsiye sistemi oluşturulmak istenmektedir."
   ]
  },
  {
   "cell_type": "markdown",
   "id": "9c854873",
   "metadata": {
    "papermill": {
     "duration": 0.003093,
     "end_time": "2024-06-23T15:18:41.150253",
     "exception": false,
     "start_time": "2024-06-23T15:18:41.147160",
     "status": "completed"
    },
    "tags": []
   },
   "source": [
    "**Veri Seti Hikayesi**\n",
    "\n",
    "Veri seti müşterilerin aldıkları servislerden ve bu servislerin kategorilerinden oluşmaktadır. Alınan her hizmetin tarih ve saat bilgisini içermektedir.\n",
    "\n",
    "* UserId: Müşteri numarası\n",
    "* ServiceId: Her kategoriye ait anonimleştirilmiş servislerdir. (Örnek : Temizlik kategorisi altında koltuk yıkama servisi)\n",
    "* Bir ServiceId farklı kategoriler altında bulanabilir ve farklı kategoriler altında farklı servisleri ifade eder.\n",
    "(Örnek: CategoryId’si 7 ServiceId’si 4 olan hizmet petek temizliği iken CategoryId’si 2 ServiceId’si 4 olan hizmet mobilya montaj)\n",
    "* CategoryId: Anonimleştirilmiş kategorilerdir. (Örnek : Temizlik, nakliyat, tadilat kategorisi)\n",
    "* CreateDate: Hizmetin satın alındığı tarih"
   ]
  },
  {
   "cell_type": "code",
   "execution_count": 1,
   "id": "c5141b9c",
   "metadata": {
    "execution": {
     "iopub.execute_input": "2024-06-23T15:18:41.158468Z",
     "iopub.status.busy": "2024-06-23T15:18:41.158103Z",
     "iopub.status.idle": "2024-06-23T15:18:41.924784Z",
     "shell.execute_reply": "2024-06-23T15:18:41.923591Z"
    },
    "papermill": {
     "duration": 0.773973,
     "end_time": "2024-06-23T15:18:41.927494",
     "exception": false,
     "start_time": "2024-06-23T15:18:41.153521",
     "status": "completed"
    },
    "tags": []
   },
   "outputs": [],
   "source": [
    "import pandas as pd\n",
    "pd.set_option('display.max_columns', None)\n",
    "pd.set_option('display.width', 500)\n",
    "pd.set_option('display.expand_frame_repr', False)\n",
    "from mlxtend.frequent_patterns import apriori, association_rules"
   ]
  },
  {
   "cell_type": "markdown",
   "id": "601e82d3",
   "metadata": {
    "papermill": {
     "duration": 0.003304,
     "end_time": "2024-06-23T15:18:41.934936",
     "exception": false,
     "start_time": "2024-06-23T15:18:41.931632",
     "status": "completed"
    },
    "tags": []
   },
   "source": [
    "# GÖREV 1: Veriyi Hazırlama"
   ]
  },
  {
   "cell_type": "code",
   "execution_count": 2,
   "id": "942f7ebb",
   "metadata": {
    "execution": {
     "iopub.execute_input": "2024-06-23T15:18:41.944380Z",
     "iopub.status.busy": "2024-06-23T15:18:41.943545Z",
     "iopub.status.idle": "2024-06-23T15:18:42.158674Z",
     "shell.execute_reply": "2024-06-23T15:18:42.157605Z"
    },
    "papermill": {
     "duration": 0.222283,
     "end_time": "2024-06-23T15:18:42.161006",
     "exception": false,
     "start_time": "2024-06-23T15:18:41.938723",
     "status": "completed"
    },
    "tags": []
   },
   "outputs": [
    {
     "data": {
      "text/html": [
       "<div>\n",
       "<style scoped>\n",
       "    .dataframe tbody tr th:only-of-type {\n",
       "        vertical-align: middle;\n",
       "    }\n",
       "\n",
       "    .dataframe tbody tr th {\n",
       "        vertical-align: top;\n",
       "    }\n",
       "\n",
       "    .dataframe thead th {\n",
       "        text-align: right;\n",
       "    }\n",
       "</style>\n",
       "<table border=\"1\" class=\"dataframe\">\n",
       "  <thead>\n",
       "    <tr style=\"text-align: right;\">\n",
       "      <th></th>\n",
       "      <th>UserId</th>\n",
       "      <th>ServiceId</th>\n",
       "      <th>CategoryId</th>\n",
       "      <th>CreateDate</th>\n",
       "    </tr>\n",
       "  </thead>\n",
       "  <tbody>\n",
       "    <tr>\n",
       "      <th>0</th>\n",
       "      <td>25446</td>\n",
       "      <td>4</td>\n",
       "      <td>5</td>\n",
       "      <td>2017-08-06 16:11:00</td>\n",
       "    </tr>\n",
       "    <tr>\n",
       "      <th>1</th>\n",
       "      <td>22948</td>\n",
       "      <td>48</td>\n",
       "      <td>5</td>\n",
       "      <td>2017-08-06 16:12:00</td>\n",
       "    </tr>\n",
       "    <tr>\n",
       "      <th>2</th>\n",
       "      <td>10618</td>\n",
       "      <td>0</td>\n",
       "      <td>8</td>\n",
       "      <td>2017-08-06 16:13:00</td>\n",
       "    </tr>\n",
       "    <tr>\n",
       "      <th>3</th>\n",
       "      <td>7256</td>\n",
       "      <td>9</td>\n",
       "      <td>4</td>\n",
       "      <td>2017-08-06 16:14:00</td>\n",
       "    </tr>\n",
       "    <tr>\n",
       "      <th>4</th>\n",
       "      <td>25446</td>\n",
       "      <td>48</td>\n",
       "      <td>5</td>\n",
       "      <td>2017-08-06 16:16:00</td>\n",
       "    </tr>\n",
       "  </tbody>\n",
       "</table>\n",
       "</div>"
      ],
      "text/plain": [
       "   UserId  ServiceId  CategoryId           CreateDate\n",
       "0   25446          4           5  2017-08-06 16:11:00\n",
       "1   22948         48           5  2017-08-06 16:12:00\n",
       "2   10618          0           8  2017-08-06 16:13:00\n",
       "3    7256          9           4  2017-08-06 16:14:00\n",
       "4   25446         48           5  2017-08-06 16:16:00"
      ]
     },
     "execution_count": 2,
     "metadata": {},
     "output_type": "execute_result"
    }
   ],
   "source": [
    "# Adım 1: armut_data.csv dosyasınız okutunuz.\n",
    "\n",
    "df_ = pd.read_csv(\"/kaggle/input/armut-data/armut_data.csv\")\n",
    "df = df_.copy()\n",
    "df.head()"
   ]
  },
  {
   "cell_type": "code",
   "execution_count": 3,
   "id": "85ffab2c",
   "metadata": {
    "execution": {
     "iopub.execute_input": "2024-06-23T15:18:42.171019Z",
     "iopub.status.busy": "2024-06-23T15:18:42.170156Z",
     "iopub.status.idle": "2024-06-23T15:18:42.328139Z",
     "shell.execute_reply": "2024-06-23T15:18:42.327087Z"
    },
    "papermill": {
     "duration": 0.166038,
     "end_time": "2024-06-23T15:18:42.331052",
     "exception": false,
     "start_time": "2024-06-23T15:18:42.165014",
     "status": "completed"
    },
    "tags": []
   },
   "outputs": [
    {
     "name": "stdout",
     "output_type": "stream",
     "text": [
      "<class 'pandas.core.frame.DataFrame'>\n",
      "RangeIndex: 162523 entries, 0 to 162522\n",
      "Data columns (total 4 columns):\n",
      " #   Column      Non-Null Count   Dtype \n",
      "---  ------      --------------   ----- \n",
      " 0   UserId      162523 non-null  int64 \n",
      " 1   ServiceId   162523 non-null  int64 \n",
      " 2   CategoryId  162523 non-null  int64 \n",
      " 3   CreateDate  162523 non-null  object\n",
      "dtypes: int64(3), object(1)\n",
      "memory usage: 5.0+ MB\n"
     ]
    }
   ],
   "source": [
    "# Adım 2: ServisID her bir CategoryID özelinde farklı bir hizmeti temsil etmektedir.\n",
    "# ServiceID ve CategoryID'yi \"_\" ile birleştirerek hizmetleri temsil edecek yeni bir değişken oluşturunuz.\n",
    "\n",
    "df.info()  # Değişkenler int tipinde, bu nedenle önce string'e çeviriyoruz.\n",
    "df[\"Hizmet\"] = df[\"ServiceId\"].astype(str) + \"_\" + df[\"CategoryId\"].astype(str)"
   ]
  },
  {
   "cell_type": "code",
   "execution_count": 4,
   "id": "caa99267",
   "metadata": {
    "execution": {
     "iopub.execute_input": "2024-06-23T15:18:42.340966Z",
     "iopub.status.busy": "2024-06-23T15:18:42.340154Z",
     "iopub.status.idle": "2024-06-23T15:18:42.633114Z",
     "shell.execute_reply": "2024-06-23T15:18:42.631923Z"
    },
    "papermill": {
     "duration": 0.300564,
     "end_time": "2024-06-23T15:18:42.635661",
     "exception": false,
     "start_time": "2024-06-23T15:18:42.335097",
     "status": "completed"
    },
    "tags": []
   },
   "outputs": [],
   "source": [
    "# Adım 3: Veri seti hizmetlerin alındığı tarih ve saatten oluşmaktadır, herhangi bir sepet tanımı (fatura vb. ) bulunmamaktadır.\n",
    "# Association Rule Learning uygulayabilmek için bir sepet (fatura vb.) tanımı oluşturulması gerekmektedir.\n",
    "# Burada sepet tanımı her bir müşterinin aylık aldığı hizmetlerdir. Örneğin; 7256 id'li müşteri 2017'in 8.ayında aldığı 9_4, 46_4 hizmetleri bir sepeti;\n",
    "# 2017’in 10.ayında aldığı  9_4, 38_4  hizmetleri başka bir sepeti ifade etmektedir. Sepetleri unique bir ID ile tanımlanması gerekmektedir.\n",
    "# Bunun için öncelikle sadece yıl ve ay içeren yeni bir date değişkeni oluşturunuz. \n",
    "# UserID ve yeni oluşturduğunuz date değişkenini \"_\" ile birleştirirek ID adında yeni bir değişkene atayınız.\n",
    "\n",
    "# Önce CreateDate sütununu datetime formatına çevirelim\n",
    "df['CreateDate'] = pd.to_datetime(df['CreateDate'])\n",
    "\n",
    "# Yıl ve ay bilgilerini içeren yeni bir sütun oluşturalım\n",
    "df['New_Date'] = df['CreateDate'].dt.to_period('M')\n",
    "\n",
    "# UserID ve Year_Month sütunlarını birleştirerek ID sütununu oluşturalım\n",
    "df['ID'] = df['UserId'].astype(str) + \"_\" + df['New_Date'].astype(str)"
   ]
  },
  {
   "cell_type": "markdown",
   "id": "c59f9f90",
   "metadata": {
    "papermill": {
     "duration": 0.003867,
     "end_time": "2024-06-23T15:18:42.643609",
     "exception": false,
     "start_time": "2024-06-23T15:18:42.639742",
     "status": "completed"
    },
    "tags": []
   },
   "source": [
    "# GÖREV 2: Birliktelik Kuralları Üretiniz"
   ]
  },
  {
   "cell_type": "code",
   "execution_count": 5,
   "id": "a3ef6554",
   "metadata": {
    "execution": {
     "iopub.execute_input": "2024-06-23T15:18:42.653035Z",
     "iopub.status.busy": "2024-06-23T15:18:42.652681Z",
     "iopub.status.idle": "2024-06-23T15:18:44.542272Z",
     "shell.execute_reply": "2024-06-23T15:18:44.541223Z"
    },
    "papermill": {
     "duration": 1.897412,
     "end_time": "2024-06-23T15:18:44.544980",
     "exception": false,
     "start_time": "2024-06-23T15:18:42.647568",
     "status": "completed"
    },
    "tags": []
   },
   "outputs": [
    {
     "name": "stderr",
     "output_type": "stream",
     "text": [
      "/tmp/ipykernel_18/3503832191.py:15: FutureWarning: DataFrame.applymap has been deprecated. Use DataFrame.map instead.\n",
      "  applymap(lambda x: 1 if x > 0 else 0)\n"
     ]
    }
   ],
   "source": [
    "# Adım 1: Aşağıdaki gibi sepet hizmet pivot table’i oluşturunuz.\n",
    "\n",
    "# Hizmet         0_8  10_9  11_11  12_7  13_11  14_7  15_1  16_8  17_5  18_4..\n",
    "# SepetID\n",
    "# 0_2017-08        0     0      0     0      0     0     0     0     0     0..\n",
    "# 0_2017-09        0     0      0     0      0     0     0     0     0     0..\n",
    "# 0_2018-01        0     0      0     0      0     0     0     0     0     0..\n",
    "# 0_2018-04        0     0      0     0      0     1     0     0     0     0..\n",
    "# 10000_2017-08    0     0      0     0      0     0     0     0     0     0..\n",
    "\n",
    "df_pivot = df.groupby(['ID', 'Hizmet']). \\\n",
    "    size(). \\\n",
    "    unstack(). \\\n",
    "    fillna(0). \\\n",
    "    applymap(lambda x: 1 if x > 0 else 0)"
   ]
  },
  {
   "cell_type": "code",
   "execution_count": 6,
   "id": "d9aaf602",
   "metadata": {
    "execution": {
     "iopub.execute_input": "2024-06-23T15:18:44.554603Z",
     "iopub.status.busy": "2024-06-23T15:18:44.554229Z",
     "iopub.status.idle": "2024-06-23T15:18:45.312748Z",
     "shell.execute_reply": "2024-06-23T15:18:45.311836Z"
    },
    "papermill": {
     "duration": 0.766269,
     "end_time": "2024-06-23T15:18:45.315287",
     "exception": false,
     "start_time": "2024-06-23T15:18:44.549018",
     "status": "completed"
    },
    "tags": []
   },
   "outputs": [
    {
     "name": "stderr",
     "output_type": "stream",
     "text": [
      "/opt/conda/lib/python3.10/site-packages/mlxtend/frequent_patterns/fpcommon.py:109: DeprecationWarning: DataFrames with non-bool types result in worse computationalperformance and their support might be discontinued in the future.Please use a DataFrame with bool type\n",
      "  warnings.warn(\n"
     ]
    }
   ],
   "source": [
    "# Adım 2: Birliktelik kurallarını oluşturunuz.\n",
    "frequent_itemsets = apriori(df_pivot,\n",
    "                            min_support=0.01,\n",
    "                            use_colnames=True)\n",
    "\n",
    "frequent_itemsets.sort_values(\"support\", ascending=False)\n",
    "\n",
    "rules = association_rules(frequent_itemsets,\n",
    "                          metric=\"support\",\n",
    "                          min_threshold=0.01)"
   ]
  },
  {
   "cell_type": "code",
   "execution_count": 7,
   "id": "81af7adf",
   "metadata": {
    "execution": {
     "iopub.execute_input": "2024-06-23T15:18:45.325209Z",
     "iopub.status.busy": "2024-06-23T15:18:45.324831Z",
     "iopub.status.idle": "2024-06-23T15:18:45.331439Z",
     "shell.execute_reply": "2024-06-23T15:18:45.330310Z"
    },
    "papermill": {
     "duration": 0.013909,
     "end_time": "2024-06-23T15:18:45.333506",
     "exception": false,
     "start_time": "2024-06-23T15:18:45.319597",
     "status": "completed"
    },
    "tags": []
   },
   "outputs": [],
   "source": [
    "#Adım 3: arl_recommender fonksiyonunu kullanarak en son 2_0 hizmetini alan bir kullanıcıya hizmet önerisinde bulununuz.\n",
    "def arl_recommender(rules_df, product_id, rec_count=1):\n",
    "    sorted_rules = rules_df.sort_values(\"lift\", ascending=False)\n",
    "    recommendation_list = []\n",
    "    # istersek buraya counter atıp, sadece 2 tanesini alabiliriz.\n",
    "    for i, product in enumerate(sorted_rules[\"antecedents\"]):\n",
    "        for j in list(product):\n",
    "            if j == product_id:\n",
    "                recommendation_list.append(list(sorted_rules.iloc[i][\"consequents\"])[0])\n",
    "\n",
    "    return recommendation_list[0:rec_count]"
   ]
  },
  {
   "cell_type": "code",
   "execution_count": 8,
   "id": "ea000306",
   "metadata": {
    "execution": {
     "iopub.execute_input": "2024-06-23T15:18:45.343028Z",
     "iopub.status.busy": "2024-06-23T15:18:45.342698Z",
     "iopub.status.idle": "2024-06-23T15:18:45.350733Z",
     "shell.execute_reply": "2024-06-23T15:18:45.349779Z"
    },
    "papermill": {
     "duration": 0.015765,
     "end_time": "2024-06-23T15:18:45.353345",
     "exception": false,
     "start_time": "2024-06-23T15:18:45.337580",
     "status": "completed"
    },
    "tags": []
   },
   "outputs": [
    {
     "data": {
      "text/plain": [
       "['22_0', '25_0', '15_1']"
      ]
     },
     "execution_count": 8,
     "metadata": {},
     "output_type": "execute_result"
    }
   ],
   "source": [
    "arl_recommender(rules, \"2_0\", 3)"
   ]
  }
 ],
 "metadata": {
  "kaggle": {
   "accelerator": "none",
   "dataSources": [
    {
     "datasetId": 5267759,
     "sourceId": 8766648,
     "sourceType": "datasetVersion"
    }
   ],
   "dockerImageVersionId": 30732,
   "isGpuEnabled": false,
   "isInternetEnabled": true,
   "language": "python",
   "sourceType": "notebook"
  },
  "kernelspec": {
   "display_name": "Python 3",
   "language": "python",
   "name": "python3"
  },
  "language_info": {
   "codemirror_mode": {
    "name": "ipython",
    "version": 3
   },
   "file_extension": ".py",
   "mimetype": "text/x-python",
   "name": "python",
   "nbconvert_exporter": "python",
   "pygments_lexer": "ipython3",
   "version": "3.10.13"
  },
  "papermill": {
   "default_parameters": {},
   "duration": 7.265843,
   "end_time": "2024-06-23T15:18:45.778781",
   "environment_variables": {},
   "exception": null,
   "input_path": "__notebook__.ipynb",
   "output_path": "__notebook__.ipynb",
   "parameters": {},
   "start_time": "2024-06-23T15:18:38.512938",
   "version": "2.5.0"
  }
 },
 "nbformat": 4,
 "nbformat_minor": 5
}
